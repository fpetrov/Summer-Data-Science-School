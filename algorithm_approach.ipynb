{
 "cells": [
  {
   "metadata": {},
   "cell_type": "markdown",
   "source": "# Попытка использовать алгоритм для решения задачи",
   "id": "c6e79b8c460bf7d9"
  },
  {
   "metadata": {},
   "cell_type": "markdown",
   "source": [
    "## Что если использовать самую банальную идею - сравнение по форме?\n",
    "Можно представить цифру '8' как граф, где различные точки на изображении соединены ребрами, аналогично можно представить и цифру '3', но здесь же не достигается полносвязность графа (из любой точки не получится попасть в любую другую). Именно поэтому правильно обработав изображение (превратив его в граф), можно использовать данных алгоритм для классификации изображений."
   ],
   "id": "2dbc31e5b6ab30e1"
  },
  {
   "metadata": {},
   "cell_type": "code",
   "outputs": [],
   "execution_count": null,
   "source": "",
   "id": "809f255419727d7c"
  }
 ],
 "metadata": {
  "kernelspec": {
   "display_name": "Python 3",
   "language": "python",
   "name": "python3"
  },
  "language_info": {
   "codemirror_mode": {
    "name": "ipython",
    "version": 2
   },
   "file_extension": ".py",
   "mimetype": "text/x-python",
   "name": "python",
   "nbconvert_exporter": "python",
   "pygments_lexer": "ipython2",
   "version": "2.7.6"
  }
 },
 "nbformat": 4,
 "nbformat_minor": 5
}
